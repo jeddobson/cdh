{
 "cells": [
  {
   "cell_type": "markdown",
   "metadata": {},
   "source": [
    "# Text Mining DocSouth Slave Narrative Archive\n",
    "---\n",
    "\n",
    "*Note:* This is the first in [a series of documents and notebooks](https://jeddobson.github.io/textmining-docsouth/) that will document and evaluate various machine learning and text mining tools for use in literary studies. These notebooks form the practical and critical archive of my book-in-progress, _Digital Humanities and the Search for a Method_. I have published a critique of some existing methods (Dobson 2015) that takes up some of these concerns and provides some theoretical background for my account of computational methods as used within the humanities. Each notebook displays code, data, results, interpretation, and critique. I attempt to provide as much explanation of the individual steps and documentation (along with citations of related papers) of the concepts and justification of choices made.   \n",
    "\n",
    "### Revision Date and Notes:\n",
    "\n",
    "- 05/10/2017: Initial version (james.e.dobson@dartmouth.edu)\n",
    "- 08/29/2017: Updated to automatically assign labels and reduced to two classes/periods.\n",
    "\n",
    "### KNearest Neighbor (kNN) period classification of texts\n",
    "\n",
    "The following Jupyter cells show a very basic classification task using the [kNN](https://en.wikipedia.org/wiki/K-nearest_neighbors_algorithm) algorithm as implemented in Python and with the [scikit-learn](http://scikit-learn.org/) package.\n",
    "\n",
    "A simple check to see if the dates in the table of contents (\"toc.csv\") for the DocSouth [\"North American Slave Narratives\"](http://docsouth.unc.edu/neh/) can be converted to an integer (date as year) is used to assign one of these two classes:\n",
    "\n",
    "- antebellum: prior to 1865\n",
    "- postbellum: after 1865 \n",
    "\n",
    "These period categories are rough and by no means not perfect. Publication year may have little relation to the content of the text, the source for the vectorizing process and eventual categorization. These dates are what Matthew Jockers calls, within the digital humanities context, catalog metadata (Jockers 2013, 35-62). Recently, critics have challenged such divisions (Marrs 2015) that are central to the understanding of field of nineteenth-century American literary studies with concepts like \"transbellum\" that might be capable of helping to better understand works that address the Civil War and its attendant anxities through the \"long nineteenth century.\" The majority of the texts included in the DocSouth archive are first-person autobiographical narratives of lives lived during the antebellum and Civil War years and published in the years leading up to, including, and after the war.\n",
    "\n",
    "### Complete (Labeled) Dataset\n",
    "\n",
    "|class|count|\n",
    "|---|---|\n",
    "|antebellum|143|\n",
    "|postbellum|109|\n",
    "|unknown or ambiguous|40|\n",
    "\n",
    "There are 252 texts with four digit years and eighteen texts with ambiguous or unknown publication dates. This script will attempt to classify these texts into one of these two periods following the \"fitting\" of the labeled training texts. I split the 252 texts with known and certain publication dates into two groups: a training set and a testing test. After \"fitting\" the training set and establishing the neighbors, the code attempts to categorize the testing set. Many questions can and should be asked about the creation of the training set and the labeling of the data. This labeling practice introduces many subjective decisions into what is perceived as an objective (machine and algorithmically generated) process (Dobson 2015, Gillespie 2016).\n",
    "\n",
    "### Training Data Set\n",
    "\n",
    "The training set (the first 252 texts, preserving the order in \"toc.csv\") over-represents the antebellum period and may account for the ability of the classifier to make good predictions for this class. \n",
    "\n",
    "|class|count|\n",
    "|---|---|\n",
    "|antebellum|96|\n",
    "|postbellum|81|\n",
    "\n",
    "### Test Data Set\n",
    "\n",
    "The \"testing\" dataset is used to validate the classifier. This dataset contains seventy-five texts with known year of publication. This dataset, like the training dataset, overrepresents the antebellum period.\n",
    "\n",
    "|class|count|\n",
    "|---|---|\n",
    "|antebellum|47|\n",
    "|postbellum|28|\n",
    "\n",
    "\n"
   ]
  },
  {
   "cell_type": "markdown",
   "metadata": {},
   "source": [
    "#### Text Pre-processing\n",
    "\n",
    "The texts are all used/imported as found in the zip file provided by the DocSouth [\"North American Slave Narratives\"](http://docsouth.unc.edu/neh/) collection. The texts have been encoded in a combination of UTF-8 Unicode and ASCII. Scikit-learn's HashingVectorizer performs some additional pre-processing and that will be examined in the sections below. \n",
    "\n",
    "#### kNN Background\n",
    "\n",
    "The kNN algorithm is a non-parametric algorithm, meaning that it does not require detailed knowledge of the input data and its distribution (Cover and Hart 1967). This algorithm is known as reliable and it is quite simple, especially when compared to some of the more complex machine learning algorithms used as present, to implement and understand. It was originally conceived of as a response to what is called a “discrimination problem”: the categorization of a large number of input points into discrete \"boxes.\" Data are eventually organized into categories, in the case of this script, the three categories of antebellum, postbellum, and twentieth-century. \n",
    "\n",
    "The algorithm functions in space and produces each input text as a \"neighbor\" and has each text \"vote\" for membership into parcellated neighborhoods. Cover and Hart explain: \"If the number of samples is large it makes good sense to use, instead of the single nearest neighbor, the majority vote of the nearest k neighbors\" (22). The following code uses the value of \"12\" for the number of neighbors or the 'k' of kNN.\n",
    "\n",
    "The kNN algorithm may give better results for smaller numbers of classes. The performance of particular implementation of kNN and the feature selection algorithm (HashingVectorizer) was better with just the antebellum and postbellum class. Alternative boundaries for the classes (year markers) might also improve results.\n",
    "\n",
    "#### Feature Selection\n",
    "\n",
    "While it is non-parametics, the kNN algorithm does require a set of features in order to categorize the input data, the texts. This script operates according to the _\"bag of words\"_ method in which each text is treated not as a narrative but a collection of unordered and otherwise undiferentiated words. This means that multiple word phrases (aka ngrams) are ignored and much meaning will be removed from the comparative method because of a loss of context. \n",
    "\n",
    "In order to select the features by which a text can be compared to another, we need some sort of method that can produce numerical data. I have selected the HashingVectorizer, which is a fast method to generate a list of words/tokens from a file. This returns a numpy compressed sparse row (CSR) matrix that scikit-learn will use in the creation of the neighborhood \"map.\" \n",
    "\n",
    "The HashingVectorizer removes a standard 318 English-language stop words and by default does not alter or remove any accents or accented characters in the encoded (UTF-8) format. It also converts all words to lowercase, potentially introducing false positives. \n",
    "\n",
    "**Issues with HashingVectorizer** This vectorizer works well, but it limits the questions we can ask after it has been run. We cannot, for example, interrogate why a certain text might have been misclassified by examining the words/tokens returned by the vectorizer. This is because the HashingVectorizer returns only indices to features and does not keep the string representation of specific words. "
   ]
  },
  {
   "cell_type": "code",
   "execution_count": 1,
   "metadata": {
    "collapsed": false
   },
   "outputs": [],
   "source": [
    "# load required packages\n",
    "import sys, os\n",
    "import re\n",
    "import operator\n",
    "import nltk\n",
    "\n",
    "from nltk import pos_tag, ne_chunk\n",
    "from nltk.tokenize import wordpunct_tokenize\n",
    "\n",
    "import seaborn as sn\n",
    "%matplotlib inline"
   ]
  },
  {
   "cell_type": "code",
   "execution_count": 2,
   "metadata": {
    "collapsed": false
   },
   "outputs": [],
   "source": [
    "# load local library\n",
    "sys.path.append(\"lib\")\n",
    "import docsouth_utils"
   ]
  },
  {
   "cell_type": "code",
   "execution_count": 3,
   "metadata": {
    "collapsed": false
   },
   "outputs": [],
   "source": [
    "# each dictionary entry in the 'list' object returned by load_narratives \n",
    "# contains the following keys:\n",
    "#  'author' = Author of the text (first name, last name)\n",
    "#  'title' = Title of the text\n",
    "#  'year' = Year published as integer or False if not simple four-digit year\n",
    "#  'file' = Filename of text\n",
    "#  'text' = NLTK Text object\n",
    "\n",
    "neh_slave_archive = docsouth_utils.load_narratives()"
   ]
  },
  {
   "cell_type": "code",
   "execution_count": 4,
   "metadata": {
    "collapsed": false
   },
   "outputs": [],
   "source": [
    "# establish two simple classes for kNN classification\n",
    "# the \"date\" field has already been converted to an integer\n",
    "# all texts published before 1865, we'll call \"antebellum\"\n",
    "# \"postbellum\" for those after.\n",
    "\n",
    "period_classes=list()\n",
    "\n",
    "for entry in neh_slave_archive:\n",
    "    file = ' '.join(entry['text'])\n",
    "    if entry['year'] != False and entry['year'] < 1865:\n",
    "        period_classes.append([file,\"antebellum\"])\n",
    "    if entry['year'] != False and entry['year'] > 1865:  \n",
    "        period_classes.append([file,\"postbellum\"])\n",
    "\n",
    "# create labels and filenames      \n",
    "labels=[i[1] for i in period_classes]\n",
    "files=[i[0] for i in period_classes]\n",
    "\n",
    "# create training and test datasets by leaving out the\n",
    "# last 100 files with integer dates from the toc for testing.\n",
    "\n",
    "test_size=100\n",
    "\n",
    "train_labels=labels[:-test_size]\n",
    "train_files=files[:-test_size]\n",
    "\n",
    "# the last set of texts (test_size) are the \"test\" dataset (for validation)\n",
    "test_labels=labels[-test_size:]\n",
    "test_files=files[-test_size:]"
   ]
  },
  {
   "cell_type": "code",
   "execution_count": 5,
   "metadata": {
    "collapsed": false
   },
   "outputs": [],
   "source": [
    "from sklearn.feature_extraction.text import HashingVectorizer\n",
    "from sklearn.neighbors import KNeighborsClassifier\n",
    "from sklearn import metrics\n",
    "\n",
    "# intialize the vectorizer using occurance counts normalized as \n",
    "# token frequencies: norm=l2\n",
    "vectorizer = HashingVectorizer(lowercase=True,\n",
    "                               stop_words='english',\n",
    "                               norm='l2',  \n",
    "                               non_negative=True)\n",
    "\n",
    "training_data = vectorizer.fit_transform(train_files)\n",
    "test_data=vectorizer.transform(test_files)"
   ]
  },
  {
   "cell_type": "code",
   "execution_count": 6,
   "metadata": {
    "collapsed": false
   },
   "outputs": [
    {
     "name": "stdout",
     "output_type": "stream",
     "text": [
      "training data:\n",
      "  postbellum : 77\n",
      "  antebellum : 75\n",
      "test data:\n",
      "  postbellum : 32\n",
      "  antebellum : 68\n"
     ]
    }
   ],
   "source": [
    "# display file counts\n",
    "print(\"training data:\")\n",
    "for period in ['postbellum', 'antebellum']:\n",
    "    print(\" \",period,\":\",train_labels.count(period))\n",
    "print(\"test data:\")\n",
    "for period in ['postbellum', 'antebellum']:\n",
    "    print(\" \",period,\":\",test_labels.count(period))"
   ]
  },
  {
   "cell_type": "code",
   "execution_count": 7,
   "metadata": {
    "collapsed": false,
    "scrolled": true
   },
   "outputs": [
    {
     "name": "stdout",
     "output_type": "stream",
     "text": [
      "accuracy:   0.800\n",
      "             precision    recall  f1-score   support\n",
      "\n",
      " antebellum       0.88      0.82      0.85        68\n",
      " postbellum       0.67      0.75      0.71        32\n",
      "\n",
      "avg / total       0.81      0.80      0.80       100\n",
      "\n",
      "confusion matrix:\n",
      "[[56 12]\n",
      " [ 8 24]]\n"
     ]
    }
   ],
   "source": [
    "# run kNN and fit training data\n",
    "knn = KNeighborsClassifier(n_neighbors=13)\n",
    "knn.fit(training_data,train_labels)\n",
    "\n",
    "# Predict results from the test data and check accuracy\n",
    "pred = knn.predict(test_data)\n",
    "score = metrics.accuracy_score(test_labels, pred)\n",
    "print(\"accuracy:   %0.3f\" % score)\n",
    "print(metrics.classification_report(test_labels, pred))\n",
    "print(\"confusion matrix:\")\n",
    "print(metrics.confusion_matrix(test_labels, pred))"
   ]
  },
  {
   "cell_type": "code",
   "execution_count": 8,
   "metadata": {
    "collapsed": false
   },
   "outputs": [
    {
     "data": {
      "text/plain": [
       "<matplotlib.axes._subplots.AxesSubplot at 0x14476c6a0>"
      ]
     },
     "execution_count": 8,
     "metadata": {},
     "output_type": "execute_result"
    },
    {
     "data": {
      "image/png": "[encoded data removed]",
      "text/plain": [
       "<matplotlib.figure.Figure at 0x1439e2470>"
      ]
     },
     "metadata": {},
     "output_type": "display_data"
    }
   ],
   "source": [
    "# Produce visualization of confusion matrix\n",
    "sn.heatmap(metrics.confusion_matrix(test_labels, pred),annot=True,cmap='Blues',fmt='g')"
   ]
  },
  {
   "cell_type": "markdown",
   "metadata": {},
   "source": [
    "## Prediction of unclassified data\n",
    "The following cell loads and vectorizes (using the above HashingVectorizing method, with the exact same parameters used for the training set) and tests against the trained classifier, all the algorithmically uncategorized and ambiguously dated (in the toc.csv) input files. \n",
    "\n",
    "### Partial list of Unspecified or Ambiguous Publication Dates\n",
    "\n",
    "\n",
    "|File|Date|\n",
    "|---|---|\n",
    "|church-hatcher-hatcher.txt|c1908|\n",
    "|fpn-jacobs-jacobs.txt|1861,c1860\n",
    "|neh-aga-aga.txt|[1846]|\n",
    "|neh-anderson-anderson.txt|1854?|\n",
    "|neh-brownj-brownj.txt|1856,c1865\n",
    "|neh-carolinatwin-carolinatwin.txt|[between 1902 and 1912]|\n",
    "|neh-delaney-delaney.txt|[189?]|\n",
    "|neh-equiano1-equiano1.txt|[1789]|\n",
    "|neh-equiano2-equiano2.txt|[1789]|\n",
    "|neh-henry-henry.txt|[1872]|\n",
    "|neh-jonestom-jones.txt|[185-?]|\n",
    "|neh-latta-latta.txt|[1903]|\n",
    "|neh-leewilliam-lee.txt|c1918|\n",
    "|neh-millie-christine-millie-christine.txt|[18--?]|\n",
    "|neh-parkerh-parkerh.txt|186?|\n",
    "|neh-pomp-pomp.txt|1795|\n",
    "|neh-washstory-washin.txt|c1901|\n",
    "|neh-white-white.txt|[c1849]|"
   ]
  },
  {
   "cell_type": "code",
   "execution_count": 9,
   "metadata": {
    "collapsed": false,
    "scrolled": false
   },
   "outputs": [
    {
     "name": "stdout",
     "output_type": "stream",
     "text": [
      "William S. White ,  The African Preacher. An Authentic Narrative\n",
      "    ['postbellum']\n",
      "Henry  Parker ,  Autobiography of Henry Parker\n",
      "    ['antebellum']\n",
      "Thomas W. Henry ,  Autobiography of Rev. Thomas W. Henry, of the A. M. E. Church\n",
      "    ['antebellum']\n",
      "Booker T. Washington ,  An Autobiography: The Story of My Life and Work\n",
      "    ['antebellum']\n",
      "  No Author ,  Biographical Sketch of Millie Christine, the Carolina Twin, Surnamed the Two-Headed Nightingale and the Eighth Wonder of the World\n",
      "    ['antebellum']\n",
      "Josephine  Brown ,  Biography of an American Bondman, by His Daughter\n",
      "    ['antebellum']\n",
      "  Pomp ,  Dying Confession of Pomp, A Negro Man, Who Was Executed at Ipswich, on the 6th August, 1795, for Murdering Capt. Charles Furbush, of Andover, Taken from the Mouth of the Prisoner, and Penned by Jonathan Plummer, Jun.\n",
      "    ['antebellum']\n",
      "Thomas H. Jones ,  Experience and Personal Narrative of Uncle Tom Jones; Who Was for Forty Years a Slave. Also the Surprising Adventures of Wild Tom, of the Island Retreat, a Fugitive Negro from South Carolina\n",
      "    ['antebellum']\n",
      "William  Parker ,  The Freedman's Story: In Two Parts\n",
      "    ['antebellum']\n",
      "Lucy A. Delaney ,  From the Darkness Cometh the Light or Struggles for Freedom\n",
      "    ['antebellum']\n",
      "M. L. Latta ,  The History of My Life and Work. Autobiography by Rev. M. L. Latta, A.M., D.D.\n",
      "    ['antebellum']\n",
      "  Millie-Christine ,  The History of the Carolina Twins: Told in \"Their Own Peculiar Way\" By \"One of Them\"\n",
      "    ['antebellum']\n",
      "William Mack Lee ,  History of the Life of Rev. Wm. Mack Lee: Body Servant of General Robert E. Lee Through the Civil War: Cook from 1861 to 1865\n",
      "    ['antebellum']\n",
      "Selim  Aga ,  Incidents Connected with the Life of Selim Aga, a Native of Central Africa\n",
      "    ['antebellum']\n",
      "Harriet A. Jacobs ,  Incidents in the Life of a Slave Girl. Written by Herself\n",
      "    ['antebellum']\n",
      "Thomas  Anderson ,  Interesting Account of Thomas Anderson, a Slave, Taken from His Own Lips. Ed. J. P. Clark\n",
      "    ['antebellum']\n",
      "Olaudah  Equiano ,  The Interesting Narrative of the Life of Olaudah Equiano, or Gustavus Vassa, the African. Written by Himself. Vol. I.\n",
      "    ['antebellum']\n",
      "Olaudah  Equiano ,  The Interesting Narrative of the Life of Olaudah Equiano, or Gustavus Vassa, the African. Written by Himself. Vol. II.\n",
      "    ['antebellum']\n",
      "William E. Hatcher ,  John Jasper: The Unmatched Negro Philosopher and Preacher\n",
      "    ['postbellum']\n",
      "  Arthur ,  The Life, and Dying Speech of Arthur, a Negro Man; Who Was Executed at Worcester, October 10, 1768. For a Rape Committed on the Body of One Deborah Metcalfe\n",
      "    ['antebellum']\n",
      "John  Jea ,  The Life, History, and Unparalleled Sufferings of John Jea, the African Preacher. Compiled and Written by Himself\n",
      "    ['antebellum']\n",
      "Stephen  Smith ,  Life, Last Words and Dying Speech of Stephen Smith, a Black Man, Who Was Executed at Boston This Day Being Thursday, October 12, 1797 for Burglary\n",
      "    ['antebellum']\n",
      "Alexander  Walters ,  My Life and Work\n",
      "    ['antebellum']\n",
      "Andrew  Jackson ,  Narrative and Writings of Andrew Jackson, of Kentucky; Containing an Account of His Birth, and Twenty-Six Years of His Life While a Slave; His Escape; Five Years of Freedom, Together with Anecdotes Relating to Slavery; Journal of One Year's Travels; Sketches, etc. Narrated by Himself; Written by a Friend\n",
      "    ['antebellum']\n",
      "James  Williams ,  A Narrative of Events Since the First of August, 1834, By James Williams, an Apprenticed Labourer in Jamaica\n",
      "    ['antebellum']\n",
      "James  Curry ,  Narrative of James Curry, A Fugitive Slave\n",
      "    ['antebellum']\n",
      "T. C. Upham ,  Narrative of Phebe Ann Jacobs\n",
      "    ['antebellum']\n",
      "W.  Mallory ,  Old Plantation Days\n",
      "    ['antebellum']\n",
      "Walter L. Fleming ,  \"Pap\" Singleton, The Moses of the Colored Exodus\n",
      "    ['antebellum']\n",
      "  No Author ,  Recollections of Slavery by a Runaway Slave\n",
      "    ['antebellum']\n",
      "Charles  Stuart ,  Reuben Maddison: A True Story\n",
      "    ['antebellum']\n",
      "George F. Bragg ,  Richard Allen and Absalom Jones, by the Rev. George F. Bragg, in Honor of the Centennial of the African Methodist Episcopal Church, Which Occurs in the Year 1916\n",
      "    ['antebellum']\n",
      "  No Author ,  The Royal African: or, Memoirs of the Young Prince of Annamaboe. Comprehending a Distinct Account of His Country and Family; His Elder Brother's Voyage to France, and Reception there; the Manner in Which Himself Was Confided by His Father to the Captain Who Sold Him; His Condition While a Slave in Barbadoes; the True Cause of His Bring Redeemed; His Voyage from Thence; and Reception Here in England. Interspers'd Throughout with Several Historical Remarks on the Commerce of the European Nations, Whose Subjects Frequent the Coast of Guinea. To which is Prefixed a Letter from the Author to a Person of Distinction, in Reference to Some Natural Curiosities in Africa; as Well as Explaining the Motives which Induced Him to Compose These Memoirs.\n",
      "    ['antebellum']\n",
      "  No Author ,  A Sketch of Henry Franklin and Family.\n",
      "    ['antebellum']\n",
      "Lewis  Charlton ,  Sketch of the Life of Mr. Lewis Charlton, and Reminiscences of Slavery\n",
      "    ['antebellum']\n",
      "Mark  Twain ,  A True Story, Repeated Word for Word As I Heard It. From The Atlantic Monthly. Nov. 1874: 591-594\n",
      "    ['antebellum']\n",
      "Emma J. Ray ,  Twice Sold, Twice Ransomed: Autobiography of Mr. and Mrs. L. P. Ray\n",
      "    ['antebellum']\n",
      "Gustavus L. Foster ,  Uncle Johnson, the Pilgrim of Six Score Years\n",
      "    ['antebellum']\n",
      "Booker T. Washington ,  Up from Slavery: An Autobiography\n",
      "    ['antebellum']\n",
      "Thomas William Burton ,  What Experience Has Taught Me: An Autobiography of Thomas William Burton\n",
      "    ['antebellum']\n"
     ]
    }
   ],
   "source": [
    "# predict class or period membership for all texts without\n",
    "# four digit years\n",
    "for entry in neh_slave_archive:\n",
    "    if entry['year'] == False:\n",
    "        print(entry['author'],\", \",entry['title'])\n",
    "        print(\"   \",knn.predict(vectorizer.transform([entry['file']])))"
   ]
  },
  {
   "cell_type": "markdown",
   "metadata": {},
   "source": [
    "## Works Cited\n",
    "\n",
    "Cover T.M. and P. E. Hart. 1967. \"Nearest Neighbor Pattern Classification.\" _IEEE Transactions on Information Theory_ 13, no. 1: 21-27.\n",
    "\n",
    "Dobson, James E. 2015. [“Can an Algorithm be Disturbed? Machine Learning, Intrinsic Criticism, and the Digital Humanities.”](https://mla.hcommons.org/deposits/item/mla:313/) _College Literature_ 42, no. 4: 543-564. \n",
    "\n",
    "Gillespie, Tarleton. 2016. “Algorithm.” In _Digital Keywords: A Vocabulary of Information Society and Culture_. Edited by Benjamin Peters. Princeton: Princeton University Press.\n",
    "\n",
    "Jockers, Matthew. 2013. _Macroanalysis: Digital Methods & Literary History_ Urbana: University of Illinois Press.\n",
    "\n",
    "Marrs, Cody. 2015. _Nineteenth-Century American Literature and the Long Civil War_. New York: Cambridge University Press.\n"
   ]
  }
 ],
 "metadata": {
  "kernelspec": {
   "display_name": "Python 3",
   "language": "python",
   "name": "python3"
  },
  "language_info": {
   "codemirror_mode": {
    "name": "ipython",
    "version": 3
   },
   "file_extension": ".py",
   "mimetype": "text/x-python",
   "name": "python",
   "nbconvert_exporter": "python",
   "pygments_lexer": "ipython3",
   "version": "3.5.3"
  }
 },
 "nbformat": 4,
 "nbformat_minor": 2
}
