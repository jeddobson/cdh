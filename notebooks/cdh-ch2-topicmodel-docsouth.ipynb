{
 "cells": [
  {
   "cell_type": "markdown",
   "metadata": {},
   "source": [
    "# Text Mining DocSouth Slave Narrative Archive\n",
    "---\n",
    "\n",
    "*Note:* This is one in [a series of documents and notebooks](https://jeddobson.github.io/textmining-docsouth/) that will document and evaluate various machine learning and text mining tools for use in literary studies. These notebooks form the practical and critical archive of my book-in-progress, _Digital Humanities and the Search for a Method_. I have published a critique of some existing methods (Dobson 2016) that takes up some of these concerns and provides some theoretical background for my account of computational methods as used within the humanities.\n",
    "\n",
    "### Revision Date and Notes:\n",
    "\n",
    "10/12/2017: Initial version (james.e.dobson@dartmouth.edu)\n",
    "\n",
    "### Producing Topic Models from DocSouth North American Slave Narrative Texts\n",
    "\n"
   ]
  },
  {
   "cell_type": "code",
   "execution_count": 2,
   "metadata": {
    "collapsed": false
   },
   "outputs": [
    {
     "name": "stdout",
     "output_type": "stream",
     "text": [
      "nltk version:  3.2.2\n",
      "sklearn version:  0.18.1\n"
     ]
    }
   ],
   "source": [
    "# local Natural Language Toolkit\n",
    "import nltk\n",
    "pr9int(\"nltk version: \",nltk.__version__)\n",
    "\n",
    "# load scikit-learn \n",
    "import sklearn\n",
    "from sklearn.feature_extraction import text\n",
    "from sklearn import decomposition\n",
    "from sklearn import datasets\n",
    "print(\"sklearn version: \",sklearn.__version__)"
   ]
  },
  {
   "cell_type": "code",
   "execution_count": 3,
   "metadata": {
    "collapsed": false
   },
   "outputs": [],
   "source": [
    "# load all library and all the texts\n",
    "import sys\n",
    "\n",
    "sys.path.append(\"lib\")\n",
    "import docsouth_utils\n",
    "\n",
    "neh_slave_archive = docsouth_utils.load_narratives()"
   ]
  },
  {
   "cell_type": "code",
   "execution_count": 6,
   "metadata": {
    "collapsed": false,
    "scrolled": true
   },
   "outputs": [
    {
     "name": "stdout",
     "output_type": "stream",
     "text": [
      "reading files and loading into vectorizer\n",
      "generating 20 topics with 100 features\n",
      "Topic #0:\n",
      "time, day, city, new, world, state, place, hand, left, night, shall, soon, days, years, seen, states, year, make, hands, home, given, took, men, life, taken, morning, long, country, say, received, death, heard, woman, called, come, large, let, great, young, far, brought, friends, kind, land, mother, money, gave, away, right, know, house, black, think, family, way, sent, freedom, things, colored, saw, free, brother, came, children, church, felt, god, better, best, father, good, man, heart, john, work, wife, white, went, told, thought, tell, south, slaves, slavery, slave, school, said, race, power, poor, people, old, negro, mind, meeting, master, lord, little, knew, asked\n",
      "\n",
      "Topic #1:\n",
      "church, god, brother, years, city, meeting, year, shall, called, men, great, new, good, people, received, young, say, state, school, life, took, best, time, gave, friends, work, white, little, left, world, power, death, given, morning, right, mother, went, seen, john, asked, large, heard, long, place, far, money, night, family, day, days, think, felt, father, free, freedom, things, country, colored, come, taken, thought, told, children, came, way, brought, wife, black, better, woman, away, tell, soon, states, let, negro, poor, mind, race, said, master, saw, make, lord, sent, slave, slavery, south, land, know, knew, kind, slaves, house, home, heart, hands, hand, old, man\n",
      "\n",
      "Topic #2:\n",
      "great, country, people, men, good, time, large, taken, man, sent, place, came, soon, slaves, called, make, received, power, long, father, gave, days, land, saw, brought, kind, told, way, took, best, little, seen, work, hands, far, things, black, city, given, better, left, think, new, young, friends, heard, world, knew, house, say, old, year, states, thought, family, said, life, mind, state, death, south, felt, day, tell, morning, come, free, church, children, went, white, wife, brother, woman, away, colored, god, freedom, race, mother, meeting, master, years, negro, lord, night, let, poor, right, slavery, know, john, home, heart, hand, school, shall, money, slave, asked\n",
      "\n",
      "Topic #3:\n",
      "god, shall, man, great, heart, mind, death, life, lord, poor, world, good, let, power, father, friends, say, things, know, day, come, state, brother, home, time, think, children, called, gave, said, asked, came, brought, hand, land, kind, years, tell, make, john, left, men, taken, place, race, church, free, black, right, school, mother, told, hands, way, far, felt, freedom, saw, wife, family, went, days, white, country, colored, city, woman, work, year, better, best, away, took, south, given, thought, received, seen, people, old, night, new, negro, morning, money, sent, meeting, master, slave, long, little, slavery, slaves, large, soon, knew, house, states, heard, young\n",
      "\n",
      "Topic #4:\n",
      "slaves, slave, master, work, poor, slavery, away, day, time, night, children, soon, old, free, came, little, taken, called, hands, long, negro, mother, wife, large, hand, heard, way, morning, white, saw, south, woman, seen, knew, far, sent, given, left, great, men, young, make, said, land, people, place, brought, house, year, felt, death, church, days, kind, let, took, tell, right, come, know, gave, heart, better, home, told, brother, asked, best, shall, john, say, world, went, black, thought, think, things, states, state, city, colored, school, country, received, life, race, family, power, father, new, money, freedom, friends, mind, meeting, god, good, years, lord, man\n",
      "\n",
      "Topic #5:\n",
      "said, old, say, asked, come, little, day, right, morning, know, tell, called, young, city, way, master, slaves, went, new, thought, woman, friends, away, gave, seen, god, home, make, father, money, lord, children, hand, heard, knew, free, mind, state, things, hands, long, saw, work, man, came, received, brought, black, better, days, white, south, slave, freedom, slavery, felt, soon, far, family, death, world, country, given, colored, states, church, taken, year, brother, best, time, shall, sent, mother, left, negro, men, meeting, night, years, people, place, poor, wife, life, think, large, good, land, power, race, kind, john, house, heart, took, told, school, great, let\n",
      "\n",
      "Topic #6:\n",
      "wife, house, family, children, friends, money, time, good, received, new, freedom, said, brother, sent, place, father, given, left, little, state, think, woman, day, meeting, hands, called, gave, shall, kind, heart, slave, make, years, white, free, taken, long, best, poor, felt, knew, soon, far, know, hand, land, year, better, large, brought, seen, death, way, come, asked, great, god, days, country, colored, city, church, came, black, away, heard, young, home, saw, world, work, went, took, told, thought, things, tell, states, south, slaves, slavery, school, say, right, john, race, power, people, old, night, negro, mother, morning, mind, men, master, lord, life, let, man\n",
      "\n",
      "Topic #7:\n",
      "school, work, time, people, life, way, race, make, home, year, great, years, little, large, best, money, south, young, children, new, place, came, day, meeting, come, state, man, long, good, better, things, given, land, days, far, god, went, soon, think, gave, know, knew, family, kind, thought, mind, morning, felt, mother, received, night, asked, brother, states, friends, say, wife, heard, men, right, john, left, shall, poor, power, country, white, colored, city, church, woman, slave, called, brought, said, black, saw, world, away, death, slavery, let, took, sent, house, told, heart, lord, hands, hand, tell, father, taken, master, negro, slaves, freedom, free, old, seen\n",
      "\n",
      "Topic #8:\n",
      "master, time, took, place, went, taken, money, house, year, great, black, left, asked, soon, white, wife, way, free, brought, father, called, knew, mind, sent, gave, new, hands, received, heard, work, young, large, day, freedom, thought, negro, children, kind, away, good, long, far, days, better, home, felt, come, poor, land, mother, told, life, old, god, things, church, death, given, friends, best, think, came, world, brother, family, woman, tell, colored, city, country, said, hand, slave, saw, race, power, say, people, night, school, morning, seen, shall, men, meeting, years, states, make, lord, little, let, slavery, know, slaves, john, south, right, heart, state, man\n",
      "\n",
      "Topic #9:\n",
      "man, house, went, men, night, day, old, took, place, time, white, came, left, money, way, gave, away, large, days, mother, hands, black, called, morning, saw, great, work, father, young, seen, heard, things, right, thought, year, hand, life, family, asked, death, brought, south, come, land, know, better, country, told, brother, tell, good, god, given, best, woman, wife, friends, children, freedom, church, free, felt, think, world, city, colored, taken, far, say, heart, mind, said, received, race, power, poor, people, sent, shall, new, negro, slave, slavery, slaves, soon, home, meeting, master, years, make, lord, long, little, let, state, knew, kind, john, school, states\n",
      "\n",
      "Topic #10:\n",
      "colored, people, white, men, said, race, south, told, city, new, children, friends, old, asked, come, slaves, let, money, free, called, sent, states, better, state, john, man, came, left, school, place, saw, black, land, good, far, year, received, right, large, took, think, knew, meeting, home, given, days, mother, great, best, woman, long, gave, life, know, way, freedom, father, felt, shall, family, death, day, god, went, wife, church, work, world, brought, brother, away, country, time, hand, things, say, slave, slavery, power, poor, soon, taken, night, tell, negro, morning, mind, hands, master, years, make, lord, little, thought, kind, seen, house, heart, heard, young\n",
      "\n",
      "Topic #11:\n",
      "lord, people, meeting, felt, god, time, great, went, way, thought, things, place, work, day, year, heard, world, come, brother, house, hand, came, saw, heart, power, away, good, say, given, asked, white, mind, woman, gave, brought, states, land, years, old, better, took, days, said, right, called, night, death, sent, hands, far, taken, let, know, best, colored, black, friends, freedom, father, family, children, church, city, country, free, young, home, slaves, received, school, seen, shall, slave, slavery, soon, john, south, state, tell, think, told, wife, race, poor, new, negro, mother, morning, money, men, master, make, long, little, life, left, large, knew, kind, man\n",
      "\n",
      "Topic #12:\n",
      "years, old, life, home, father, long, family, time, year, death, children, great, good, colored, days, country, freedom, master, land, wife, woman, man, little, sent, came, called, make, free, lord, south, know, state, work, slave, heard, young, tell, brother, church, given, away, brought, received, negro, taken, seen, friends, large, race, far, best, heart, knew, black, gave, felt, things, think, poor, thought, told, day, took, god, way, city, went, white, world, better, come, hands, states, soon, people, power, night, new, mother, morning, money, mind, men, meeting, right, said, saw, say, school, let, left, shall, kind, john, house, slavery, slaves, place, hand, asked\n",
      "\n",
      "Topic #13:\n",
      "john, city, man, years, states, little, came, house, sent, went, children, took, long, hand, soon, wife, slave, people, lord, best, called, say, days, saw, state, new, brought, taken, family, know, life, place, hands, left, asked, knew, think, woman, poor, negro, good, far, south, year, mother, school, gave, black, seen, way, world, given, away, better, brother, friends, freedom, free, felt, father, work, colored, white, time, death, told, day, country, god, church, come, power, heard, great, said, race, received, old, night, right, morning, money, mind, men, meeting, master, make, thought, shall, slavery, let, slaves, large, land, kind, tell, things, home, heart, young\n",
      "\n",
      "Topic #14:\n",
      "mother, children, father, free, little, family, freedom, woman, away, home, friends, years, heart, young, way, kind, brother, city, gave, came, took, slave, felt, white, called, new, good, house, sent, come, knew, know, received, thought, long, heard, taken, things, old, given, slavery, left, black, tell, money, days, land, colored, morning, brought, world, work, told, soon, hand, south, say, god, day, great, better, church, country, hands, far, death, best, man, john, large, year, wife, went, time, think, states, state, slaves, shall, seen, school, saw, said, right, race, power, poor, place, people, night, negro, mind, men, meeting, master, make, lord, life, let, asked\n",
      "\n",
      "Topic #15:\n",
      "man, slavery, slave, states, free, men, freedom, new, state, life, power, right, great, years, friends, meeting, felt, country, mind, thought, said, way, wife, south, shall, black, make, land, family, brother, best, knew, hands, told, given, heart, city, money, race, know, far, taken, better, gave, received, death, took, long, brought, saw, asked, say, place, away, let, seen, sent, think, heard, kind, world, left, days, things, day, time, come, colored, church, went, father, children, came, called, white, woman, work, year, tell, master, soon, slaves, morning, little, mother, large, negro, night, old, john, house, home, people, hand, poor, good, god, school, lord, young\n",
      "\n",
      "Topic #16:\n",
      "good, say, know, think, tell, come, make, little, man, old, let, poor, best, time, right, better, kind, shall, young, away, heart, thought, long, way, things, told, work, woman, black, people, white, world, home, knew, years, friends, hand, heard, money, day, brother, free, seen, south, great, took, slavery, john, felt, far, new, days, left, given, large, master, year, called, gave, brought, colored, came, freedom, country, children, church, city, father, family, god, death, state, land, hands, power, soon, slaves, slave, states, sent, school, taken, saw, said, received, race, place, house, night, negro, mother, morning, mind, men, meeting, lord, life, went, wife, asked\n",
      "\n",
      "Topic #17:\n",
      "told, came, went, thought, time, home, asked, night, saw, said, soon, knew, morning, away, took, day, work, know, heard, come, days, wife, way, left, sent, god, gave, let, brother, tell, brought, taken, think, make, felt, people, place, called, house, father, long, hands, better, woman, seen, money, years, kind, things, large, south, land, right, slavery, meeting, good, mind, hand, john, white, free, best, mother, freedom, colored, black, city, far, family, death, children, church, country, friends, young, given, race, year, world, states, state, slaves, slave, shall, school, say, received, power, great, poor, old, new, negro, men, master, lord, little, life, heart, man\n",
      "\n",
      "Topic #18:\n",
      "little, mind, life, soon, heart, long, day, thought, death, poor, night, away, far, felt, great, hand, saw, way, shall, morning, old, young, brought, left, let, heard, better, home, power, children, knew, days, seen, came, friends, new, gave, hands, time, think, master, kind, things, land, come, place, make, best, slave, world, received, tell, called, family, good, house, said, man, given, woman, white, john, free, large, black, brother, work, told, meeting, states, taken, country, colored, went, city, church, took, south, wife, year, state, father, slaves, lord, know, years, men, money, mother, negro, people, race, right, say, god, school, sent, freedom, slavery, asked\n",
      "\n",
      "Topic #19:\n",
      "negro, white, race, men, south, people, black, world, years, man, hand, given, brought, states, country, shall, state, life, land, heard, saw, right, things, sent, gave, let, power, far, poor, know, received, young, went, seen, better, called, said, came, church, best, large, heart, come, hands, way, woman, day, death, think, make, children, knew, slavery, days, kind, away, father, money, long, family, wife, felt, free, slaves, city, colored, friends, old, place, work, brother, year, slave, school, freedom, good, night, god, morning, mind, soon, meeting, master, taken, lord, little, tell, left, new, thought, time, john, house, home, say, told, took, great, mother, asked\n",
      "\n"
     ]
    }
   ],
   "source": [
    "#\n",
    "# create input list of documents for the topic model\n",
    "# and perform additional preprocessing (stopword removal, \n",
    "#  lowercase, dropping non-alpha characters, etc.)\n",
    "#\n",
    "\n",
    "topic_model_source=list()\n",
    "for i in neh_slave_archive:\n",
    "    preprocessed=docsouth_utils.preprocess(i['text'])\n",
    "    topic_model_source.append(' '.join(preprocessed))\n",
    "\n",
    "# topics to model\n",
    "num_topics = 20\n",
    "\n",
    "# features to extract\n",
    "num_features = 100\n",
    "\n",
    "print('reading files and loading into vectorizer')\n",
    "print('generating',num_topics,'topics with',num_features,'features')\n",
    "\n",
    "# make explicit default flags and parameters\n",
    "vectorizer = text.CountVectorizer(input=topic_model_source,lowercase='true',\n",
    "                                  max_features=num_features, \n",
    "                                  strip_accents='unicode',\n",
    "                                  stop_words='english')\n",
    "\n",
    "# replace text that the vectorizer cannot read\n",
    "vectorizer.decode_error='replace'\n",
    "counts = vectorizer.fit_transform(topic_model_source)\n",
    "tfidf = text.TfidfTransformer().fit_transform(counts)\n",
    "\n",
    "# fit to model\n",
    "nmf = decomposition.NMF(n_components=num_topics).fit(tfidf)\n",
    "\n",
    "# extract topics \n",
    "feature_names = vectorizer.get_feature_names()\n",
    "for topic_idx, topic in enumerate(nmf.components_):\n",
    "    print(\"Topic #%d:\" % topic_idx)\n",
    "    print(\", \".join([feature_names[i] for i in topic.argsort()[:-num_features - 1:-1]]))\n",
    "    print()"
   ]
  },
  {
   "cell_type": "code",
   "execution_count": null,
   "metadata": {
    "collapsed": true
   },
   "outputs": [],
   "source": []
  }
 ],
 "metadata": {
  "kernelspec": {
   "display_name": "Python 3",
   "language": "python",
   "name": "python3"
  },
  "language_info": {
   "codemirror_mode": {
    "name": "ipython",
    "version": 3
   },
   "file_extension": ".py",
   "mimetype": "text/x-python",
   "name": "python",
   "nbconvert_exporter": "python",
   "pygments_lexer": "ipython3",
   "version": "3.5.3"
  }
 },
 "nbformat": 4,
 "nbformat_minor": 2
}
