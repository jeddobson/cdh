{
 "cells": [
  {
   "cell_type": "code",
   "execution_count": 1,
   "metadata": {
    "collapsed": false
   },
   "outputs": [
    {
     "name": "stdout",
     "output_type": "stream",
     "text": [
      "total stopwords: 127\n",
      "['i', 'me', 'my', 'myself', 'we', 'our', 'ours', 'ourselves', 'you', 'your', 'yours', 'yourself', 'yourselves', 'he', 'him', 'his', 'himself', 'she', 'her', 'hers', 'herself', 'it', 'its', 'itself', 'they', 'them', 'their', 'theirs', 'themselves', 'what', 'which', 'who', 'whom', 'this', 'that', 'these', 'those', 'am', 'is', 'are', 'was', 'were', 'be', 'been', 'being', 'have', 'has', 'had', 'having', 'do', 'does', 'did', 'doing', 'a', 'an', 'the', 'and', 'but', 'if', 'or', 'because', 'as', 'until', 'while', 'of', 'at', 'by', 'for', 'with', 'about', 'against', 'between', 'into', 'through', 'during', 'before', 'after', 'above', 'below', 'to', 'from', 'up', 'down', 'in', 'out', 'on', 'off', 'over', 'under', 'again', 'further', 'then', 'once', 'here', 'there', 'when', 'where', 'why', 'how', 'all', 'any', 'both', 'each', 'few', 'more', 'most', 'other', 'some', 'such', 'no', 'nor', 'not', 'only', 'own', 'same', 'so', 'than', 'too', 'very', 's', 't', 'can', 'will', 'just', 'don', 'should', 'now']\n"
     ]
    }
   ],
   "source": [
    "# Display the count and list of stopwords in the NTLK English language stopword list\n",
    "from nltk.corpus import stopwords\n",
    "stopwords = stopwords.words('english')\n",
    "print(\"total stopwords:\",len(stopwords))\n",
    "print(stopwords)"
   ]
  },
  {
   "cell_type": "code",
   "execution_count": 2,
   "metadata": {
    "collapsed": true
   },
   "outputs": [],
   "source": [
    "# This function defines a set of steps to be used in each input text. \n",
    "# It does the following: \n",
    "#  - removes all non-alpha characters (numbers, stray punctuation, etc)\n",
    "#  - converts all words ot lowercase\n",
    "#  - removes the above 127 NLTK-defined stopwords\n",
    "#  - removes an additional set of stopwords\n",
    "def preprocess(text):\n",
    "        pp_text = [word for word in text if word.isalpha() ]\n",
    "        pp_text = [word.lower() for word in pp_text]\n",
    "        from nltk.corpus import stopwords\n",
    "        stopwords = stopwords.words('english')\n",
    "        custom_stopwords=\"\"\"like go going gone one would got still really get\"\"\"\n",
    "        stopwords += custom_stopwords.split()\n",
    "        pp_text = [word for word in pp_text if word not in stopwords]\n",
    "        return pp_text"
   ]
  },
  {
   "cell_type": "code",
   "execution_count": 3,
   "metadata": {
    "collapsed": true
   },
   "outputs": [],
   "source": [
    "import nltk\n",
    "import os\n",
    "\n",
    "data_dir=\"na-slave-narratives/data/texts\"\n",
    "slave_narrative_archive={}\n",
    "\n",
    "for file in os.listdir(data_dir):\n",
    "    path = data_dir + \"/\" + file\n",
    "    fstream = open(path,encoding='utf-8')\n",
    "    text = fstream.read()\n",
    "    tokens = nltk.word_tokenize(text)\n",
    "    tokens = preprocess(tokens)\n",
    "    slave_narrative_archive[file] = nltk.Text(tokens)"
   ]
  },
  {
   "cell_type": "code",
   "execution_count": 4,
   "metadata": {
    "collapsed": false
   },
   "outputs": [],
   "source": [
    "import csv\n",
    "jockers_sentiment={}\n",
    "with open('jockers-sentiment.csv') as csvfile:\n",
    "    reader = csv.reader(csvfile, delimiter=',', quotechar='|')\n",
    "    for row in reader:\n",
    "        jockers_sentiment[row[1]] = row[2]"
   ]
  },
  {
   "cell_type": "code",
   "execution_count": 5,
   "metadata": {
    "collapsed": true
   },
   "outputs": [],
   "source": [
    "def get_sentiment_raw(text):\n",
    "    sum = 0.0\n",
    "    tokens = nltk.word_tokenize(text)\n",
    "    tokens = preprocess(tokens)\n",
    "    for word in tokens:\n",
    "        if jockers_sentiment.__contains__(word) == True:\n",
    "            print(word,jockers_sentiment[word])\n",
    "            sum  = float(sum + float(jockers_sentiment[word]))\n",
    "    return sum"
   ]
  },
  {
   "cell_type": "code",
   "execution_count": 6,
   "metadata": {
    "collapsed": false
   },
   "outputs": [
    {
     "name": "stdout",
     "output_type": "stream",
     "text": [
      "great 0.50\n",
      "excellent 1.00\n"
     ]
    },
    {
     "data": {
      "text/plain": [
       "1.5"
      ]
     },
     "execution_count": 6,
     "metadata": {},
     "output_type": "execute_result"
    }
   ],
   "source": [
    "get_sentiment_raw(\"The picture quality of this camera is great and the battery life is excellent\")"
   ]
  },
  {
   "cell_type": "code",
   "execution_count": 7,
   "metadata": {
    "collapsed": true
   },
   "outputs": [],
   "source": [
    "def get_sentiment(tokens):\n",
    "    sum = 0.0\n",
    "    for word in tokens:\n",
    "        if jockers_sentiment.__contains__(word) == True:\n",
    "            sum  = float(sum + float(jockers_sentiment[word]))\n",
    "    return sum"
   ]
  },
  {
   "cell_type": "code",
   "execution_count": 8,
   "metadata": {
    "collapsed": false
   },
   "outputs": [
    {
     "data": {
      "text/plain": [
       "356.9500000000015"
      ]
     },
     "execution_count": 8,
     "metadata": {},
     "output_type": "execute_result"
    }
   ],
   "source": [
    "get_sentiment(slave_narrative_archive['fpn-jacobs-jacobs.txt'])"
   ]
  },
  {
   "cell_type": "code",
   "execution_count": 1,
   "metadata": {
    "collapsed": false
   },
   "outputs": [
    {
     "ename": "NameError",
     "evalue": "name 'nltk' is not defined",
     "output_type": "error",
     "traceback": [
      "\u001b[0;31m---------------------------------------------------------------------------\u001b[0m",
      "\u001b[0;31mNameError\u001b[0m                                 Traceback (most recent call last)",
      "\u001b[0;32m<ipython-input-1-3276bdefd0b4>\u001b[0m in \u001b[0;36m<module>\u001b[0;34m()\u001b[0m\n\u001b[1;32m     48\u001b[0m     \u001b[0mlent\u001b[0m \u001b[0mher\u001b[0m \u001b[0mhard\u001b[0m \u001b[0mearnings\u001b[0m \u001b[0mto\u001b[0m \u001b[0mher\u001b[0m \u001b[0mmistress\u001b[0m\u001b[0;34m,\u001b[0m \u001b[0mshe\u001b[0m \u001b[0mtrusted\u001b[0m \u001b[0msolely\u001b[0m \u001b[0mto\u001b[0m \u001b[0mher\u001b[0m \u001b[0mhonor\u001b[0m\u001b[0;34m.\u001b[0m \u001b[0mThe\u001b[0m \u001b[0mhonor\u001b[0m \u001b[0mof\u001b[0m\u001b[0;34m\u001b[0m\u001b[0m\n\u001b[1;32m     49\u001b[0m     a slaveholder to a slave!\"\"\"\n\u001b[0;32m---> 50\u001b[0;31m \u001b[0mraw_tokens\u001b[0m \u001b[0;34m=\u001b[0m \u001b[0mnltk\u001b[0m\u001b[0;34m.\u001b[0m\u001b[0mword_tokenize\u001b[0m\u001b[0;34m(\u001b[0m\u001b[0mjacobs_first_paragraph\u001b[0m\u001b[0;34m)\u001b[0m\u001b[0;34m\u001b[0m\u001b[0m\n\u001b[0m\u001b[1;32m     51\u001b[0m \u001b[0mprint\u001b[0m\u001b[0;34m(\u001b[0m\u001b[0;34m\"Total words:\"\u001b[0m\u001b[0;34m,\u001b[0m \u001b[0mlen\u001b[0m\u001b[0;34m(\u001b[0m\u001b[0mraw_tokens\u001b[0m\u001b[0;34m)\u001b[0m\u001b[0;34m)\u001b[0m\u001b[0;34m\u001b[0m\u001b[0m\n\u001b[1;32m     52\u001b[0m \u001b[0mprint\u001b[0m\u001b[0;34m(\u001b[0m\u001b[0;34m\"After preprocessing:\"\u001b[0m\u001b[0;34m,\u001b[0m \u001b[0mlen\u001b[0m\u001b[0;34m(\u001b[0m\u001b[0;34m(\u001b[0m\u001b[0mpreprocess\u001b[0m\u001b[0;34m(\u001b[0m\u001b[0mraw_tokens\u001b[0m\u001b[0;34m)\u001b[0m\u001b[0;34m)\u001b[0m\u001b[0;34m)\u001b[0m\u001b[0;34m)\u001b[0m\u001b[0;34m\u001b[0m\u001b[0m\n",
      "\u001b[0;31mNameError\u001b[0m: name 'nltk' is not defined"
     ]
    }
   ],
   "source": [
    "jacobs_first_paragraph=\"\"\"\"I WAS born a slave; but I never knew it till six years of\n",
    "    happy childhood had passed away. My father was a carpenter, \n",
    "    and considered so intelligent and skilful in his trade, \n",
    "    that, when buildings out of the common line were to be erected, he was sent for from \n",
    "    long distances, to be head workman. On condition of paying his mistress two hundred \n",
    "    dollars a year, and supporting himself, he was allowed to work at his trade, and \n",
    "    manage his own affairs. His strongest wish was to purchase his children; but, though \n",
    "    he several times offered his hard earnings for that purpose, he never succeeded. \n",
    "    In complexion my parents were a light shade of brownish yellow, and were termed \n",
    "    mulattoes. They lived together in a comfortable home; and, though we were all \n",
    "    slaves, I was so fondly shielded that I never dreamed I was a piece of merchandise,\n",
    "    trusted to them for safe keeping, and liable to be demanded of them at any moment. \n",
    "    I had one brother, William, who was two years younger than myself—a bright, \n",
    "    affectionate child. I had also a great treasure in my maternal grandmother, who was a \n",
    "    remarkable woman in many respects. She was the daughter of a planter in South \n",
    "    Carolina, who, at his death, left her mother and his three children free, with money \n",
    "    to go to St. Augustine, where they had relatives. It was during the Revolutionary War; \n",
    "    and they were captured on their passage, carried back, and sold to different \n",
    "    purchasers. Such was the story my grandmother used to tell me; but I do not \n",
    "    remember all the particulars. She was a little girl when she was captured and sold \n",
    "    to the keeper of a large hotel. I have often heard her tell how hard she fared during\n",
    "    childhood. But as she grew older she evinced so much intelligence, and was so \n",
    "    faithful, that her master and mistress could not help seeing it was for their \n",
    "    interest to take care of such a valuable piece of property. She became an \n",
    "    indispensable personage in the household, officiating in all capacities, from cook \n",
    "    and wet nurse to seamstress. She was much praised for her cooking; and her nice \n",
    "    crackers became so famous in the neighborhood that many people were desirous of \n",
    "    obtaining them. In consequence of numerous requests of this kind, she asked permission\n",
    "    of her mistress to bake crackers at night, after all the household work was done; \n",
    "    and she obtained leave to do it, provided she would clothe herself and her children \n",
    "    from the profits. Upon these terms, after working hard all day for her mistress, \n",
    "    she began her midnight bakings, assisted by her two oldest children. The business \n",
    "    proved profitable; and each year she laid by a little, which was saved for a fund to \n",
    "    purchase her children. Her master died, and the property was divided among his heirs. \n",
    "    The widow had her dower in the hotel, which she continued to keep open. My grandmother \n",
    "    remained in her service as a slave; but her children were divided among her master's \n",
    "    children. As she had five, Benjamin, the youngest one, was sold, in order that each \n",
    "    heir might have an equal portion of dollars and cents. There was so little difference \n",
    "    in our ages that he seemed more like my brother than my uncle. He was a bright, handsome\n",
    "    lad, nearly white; for he inherited the complexion my grandmother had derived from \n",
    "    Anglo-Saxon ancestors. Though only ten years old, seven hundred and twenty dollars were \n",
    "    paid for him. His sale was a terrible blow to my grandmother; but she was naturally \n",
    "    hopeful, and she went to work with renewed energy, trusting in time to be able to \n",
    "    purchase some of her children. She had laid up three hundred dollars, which her \n",
    "    mistress one day begged as a loan, promising to pay her soon. The reader probably \n",
    "    knows that no promise or writing given to a slave is legally binding; for, according \n",
    "    to Southern laws, a slave, being property, can hold no property. When my grandmother \n",
    "    lent her hard earnings to her mistress, she trusted solely to her honor. The honor of \n",
    "    a slaveholder to a slave!\"\"\"\n",
    "raw_tokens = nltk.word_tokenize(jacobs_first_paragraph)\n",
    "print(\"Total words:\", len(raw_tokens))\n",
    "print(\"After preprocessing:\", len((preprocess(raw_tokens))))\n",
    "total=0\n",
    "\n",
    "# set() will return just the unique words\n",
    "for word in set(tokens):\n",
    "        if jockers_sentiment.__contains__(word) == True:\n",
    "            total = total +1\n",
    "print(\"Unique words found Jockers dictionary:\", total)\n",
    "get_sentiment(tokens)"
   ]
  },
  {
   "cell_type": "code",
   "execution_count": 9,
   "metadata": {
    "collapsed": false
   },
   "outputs": [
    {
     "name": "stdout",
     "output_type": "stream",
     "text": [
      "drug -0.10\n",
      "pain -0.75\n"
     ]
    },
    {
     "data": {
      "text/plain": [
       "-0.85"
      ]
     },
     "execution_count": 9,
     "metadata": {},
     "output_type": "execute_result"
    }
   ],
   "source": [
    "get_sentiment_raw(\"This drug reduced my pain significantly\")"
   ]
  },
  {
   "cell_type": "code",
   "execution_count": 10,
   "metadata": {
    "collapsed": false
   },
   "outputs": [
    {
     "name": "stdout",
     "output_type": "stream",
     "text": [
      "drug -0.10\n",
      "increased 0.50\n",
      "pain -0.75\n"
     ]
    },
    {
     "data": {
      "text/plain": [
       "-0.35"
      ]
     },
     "execution_count": 10,
     "metadata": {},
     "output_type": "execute_result"
    }
   ],
   "source": [
    "get_sentiment_raw(\"This drug increased my pain significantly\")"
   ]
  },
  {
   "cell_type": "code",
   "execution_count": 5,
   "metadata": {
    "collapsed": false
   },
   "outputs": [
    {
     "name": "stdout",
     "output_type": "stream",
     "text": [
      "_happy_\n",
      "_intelligent_\n",
      "_supporting_\n",
      "_work_\n",
      "_strongest_\n",
      "_succeeded_\n",
      "_comfortable_\n",
      "_fondly_\n",
      "_trusted_\n",
      "_safe_\n",
      "_bright_\n",
      "_affectionate_\n",
      "_great_\n",
      "_treasure_\n",
      "_remarkable_\n",
      "_free_\n",
      "_Revolutionary_\n",
      "_intelligence_\n",
      "_faithful_\n",
      "_master_\n",
      "_valuable_\n",
      "_nice_\n",
      "_famous_\n",
      "_desirous_\n",
      "_work_\n",
      "_master_\n",
      "_master_\n",
      "_like_\n",
      "_bright_\n",
      "_handsome_\n",
      "_hopeful_\n",
      "_work_\n",
      "_renewed_\n",
      "_trusting_\n",
      "_promising_\n",
      "_promise_\n",
      "_trusted_\n",
      "_honor_\n",
      "_honor_\n"
     ]
    }
   ],
   "source": [
    "jacobs_first_paragraph=\"\"\"\"I WAS born a slave; but I never knew it till six years of\n",
    "    happy childhood had passed away. My father was a carpenter, \n",
    "    and considered so intelligent and skilful in his trade, \n",
    "    that, when buildings out of the common line were to be erected, he was sent for from \n",
    "    long distances, to be head workman. On condition of paying his mistress two hundred \n",
    "    dollars a year, and supporting himself, he was allowed to work at his trade, and \n",
    "    manage his own affairs. His strongest wish was to purchase his children; but, though \n",
    "    he several times offered his hard earnings for that purpose, he never succeeded. \n",
    "    In complexion my parents were a light shade of brownish yellow, and were termed \n",
    "    mulattoes. They lived together in a comfortable home; and, though we were all \n",
    "    slaves, I was so fondly shielded that I never dreamed I was a piece of merchandise,\n",
    "    trusted to them for safe keeping, and liable to be demanded of them at any moment. \n",
    "    I had one brother, William, who was two years younger than myself—a bright, \n",
    "    affectionate child. I had also a great treasure in my maternal grandmother, who was a \n",
    "    remarkable woman in many respects. She was the daughter of a planter in South \n",
    "    Carolina, who, at his death, left her mother and his three children free, with money \n",
    "    to go to St. Augustine, where they had relatives. It was during the Revolutionary War; \n",
    "    and they were captured on their passage, carried back, and sold to different \n",
    "    purchasers. Such was the story my grandmother used to tell me; but I do not \n",
    "    remember all the particulars. She was a little girl when she was captured and sold \n",
    "    to the keeper of a large hotel. I have often heard her tell how hard she fared during\n",
    "    childhood. But as she grew older she evinced so much intelligence, and was so \n",
    "    faithful, that her master and mistress could not help seeing it was for their \n",
    "    interest to take care of such a valuable piece of property. She became an \n",
    "    indispensable personage in the household, officiating in all capacities, from cook \n",
    "    and wet nurse to seamstress. She was much praised for her cooking; and her nice \n",
    "    crackers became so famous in the neighborhood that many people were desirous of \n",
    "    obtaining them. In consequence of numerous requests of this kind, she asked permission\n",
    "    of her mistress to bake crackers at night, after all the household work was done; \n",
    "    and she obtained leave to do it, provided she would clothe herself and her children \n",
    "    from the profits. Upon these terms, after working hard all day for her mistress, \n",
    "    she began her midnight bakings, assisted by her two oldest children. The business \n",
    "    proved profitable; and each year she laid by a little, which was saved for a fund to \n",
    "    purchase her children. Her master died, and the property was divided among his heirs. \n",
    "    The widow had her dower in the hotel, which she continued to keep open. My grandmother \n",
    "    remained in her service as a slave; but her children were divided among her master's \n",
    "    children. As she had five, Benjamin, the youngest one, was sold, in order that each \n",
    "    heir might have an equal portion of dollars and cents. There was so little difference \n",
    "    in our ages that he seemed more like my brother than my uncle. He was a bright, handsome\n",
    "    lad, nearly white; for he inherited the complexion my grandmother had derived from \n",
    "    Anglo-Saxon ancestors. Though only ten years old, seven hundred and twenty dollars were \n",
    "    paid for him. His sale was a terrible blow to my grandmother; but she was naturally \n",
    "    hopeful, and she went to work with renewed energy, trusting in time to be able to \n",
    "    purchase some of her children. She had laid up three hundred dollars, which her \n",
    "    mistress one day begged as a loan, promising to pay her soon. The reader probably \n",
    "    knows that no promise or writing given to a slave is legally binding; for, according \n",
    "    to Southern laws, a slave, being property, can hold no property. When my grandmother \n",
    "    lent her hard earnings to her mistress, she trusted solely to her honor. The honor of \n",
    "    a slaveholder to a slave!\"\"\"\n",
    "import nltk\n",
    "negative = [line.rstrip('\\n') for line in open('/usr/local/share/affect/negative-words.txt')]\n",
    "positive = [line.rstrip('\\n') for line in open('/usr/local/share/affect/positive-words.txt')]\n",
    "\n",
    "for word in nltk.word_tokenize(jacobs_first_paragraph):\n",
    "    if word.isalpha():\n",
    "        if (word.lower()) in positive:\n",
    "            print(\"_\"+word+\"_\")"
   ]
  },
  {
   "cell_type": "code",
   "execution_count": 23,
   "metadata": {
    "collapsed": false
   },
   "outputs": [
    {
     "name": "stdout",
     "output_type": "stream",
     "text": [
      "master\n",
      "like\n",
      "bright\n",
      "blow\n",
      "work\n",
      "trust\n",
      "mistress\n",
      "beg\n",
      "hard\n",
      "mistress\n",
      "trust\n",
      "honor\n",
      "honor\n",
      "positive: 13\n",
      "negative: 4\n",
      "stemmed_positive: 8\n",
      "stemmed_negative: 5\n"
     ]
    }
   ],
   "source": [
    "jacobs_test=\"\"\"My grandmother remained in her service as a slave; but her children were \n",
    "divided among her master's children. As she had five, Benjamin, the youngest one, was sold, \n",
    "in order that each heir might have an equal portion of dollars and cents. There was so little \n",
    "difference in our ages that he seemed more like my brother than my uncle. He was a bright, \n",
    "handsome lad, nearly white; for he inherited the complexion my grandmother had derived from \n",
    "Anglo-Saxon ancestors. Though only ten years old, seven hundred and twenty dollars were paid \n",
    "for him. His sale was a terrible blow to my grandmother; but she was naturally hopeful, \n",
    "and she went to work with renewed energy, trusting in time to be able to purchase some of \n",
    "her children. She had laid up three hundred dollars, which her mistress one day begged as \n",
    "a loan, promising to pay her soon. The reader probably knows that no promise or writing given\n",
    "to a slave is legally binding; for, according to Southern laws, a slave, being property, \n",
    "can hold no property. When my grandmother lent her hard earnings to her mistress, \n",
    "she trusted solely to her honor. The honor of a slaveholder to a slave!\"\"\"\n",
    "\n",
    "import nltk\n",
    "from nltk.stem.porter import *\n",
    "stemmer = PorterStemmer()\n",
    "\n",
    "negative = [line.rstrip('\\n') for line in open('/usr/local/share/affect/negative-words.txt')]\n",
    "positive = [line.rstrip('\\n') for line in open('/usr/local/share/affect/positive-words.txt')]\n",
    "\n",
    "i=0\n",
    "x=0\n",
    "y=0\n",
    "z=0\n",
    "for word in nltk.word_tokenize(jacobs_test):\n",
    "    if word.isalpha():\n",
    "        word=word.lower()\n",
    "        stemmed_word = stemmer.stem(word)\n",
    "        if word in positive:\n",
    "            i=i+1\n",
    "        if word in negative:\n",
    "            x=x+1\n",
    "        if stemmed_word in positive:\n",
    "            print(stemmed_word)\n",
    "            y=y+1\n",
    "        if stemmed_word in negative:\n",
    "            print(stemmed_word)\n",
    "            z=z+1 \n",
    "print(\"positive:\",i)\n",
    "print(\"negative:\",x)\n",
    "print(\"stemmed_positive:\",y)\n",
    "print(\"stemmed_negative:\",z)"
   ]
  },
  {
   "cell_type": "code",
   "execution_count": null,
   "metadata": {
    "collapsed": true
   },
   "outputs": [],
   "source": []
  }
 ],
 "metadata": {
  "kernelspec": {
   "display_name": "Python 3",
   "language": "python",
   "name": "python3"
  },
  "language_info": {
   "codemirror_mode": {
    "name": "ipython",
    "version": 3
   },
   "file_extension": ".py",
   "mimetype": "text/x-python",
   "name": "python",
   "nbconvert_exporter": "python",
   "pygments_lexer": "ipython3",
   "version": "3.5.3"
  }
 },
 "nbformat": 4,
 "nbformat_minor": 2
}
