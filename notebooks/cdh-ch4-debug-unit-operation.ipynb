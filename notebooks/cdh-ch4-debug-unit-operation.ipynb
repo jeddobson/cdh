{
 "cells": [
  {
   "cell_type": "code",
   "execution_count": 2,
   "metadata": {
    "collapsed": false
   },
   "outputs": [
    {
     "name": "stdout",
     "output_type": "stream",
     "text": [
      "private secretary; Harvard College; Henry Adams; New York; young man;\n",
      "eighteenth century; Mount Vernon; St. Gaudens; Sir Charles; ten years;\n",
      "New England; White House; United States; every one; years old; twenty\n",
      "years; young men; State Street; Mr. Adams; Earl Russell; Minister\n",
      "Adams; Charles Francis; could see; North American; Chief Justice;\n",
      "Civil Law; Monckton Milnes; one could; Fayette Square; forty years\n"
     ]
    }
   ],
   "source": [
    "import nltk\n",
    "from io import open\n",
    "fstream = open(\"eduha10.txt\",encoding='utf-8')\n",
    "text = fstream.read()\n",
    "tokens = nltk.word_tokenize(text)\n",
    "nltk_text = nltk.Text(tokens)\n",
    "nltk_text.collocations(num=30, window_size=2)"
   ]
  },
  {
   "cell_type": "markdown",
   "metadata": {},
   "source": [
    "The above code imports _869 Python modules_"
   ]
  },
  {
   "cell_type": "code",
   "execution_count": null,
   "metadata": {
    "collapsed": true
   },
   "outputs": [],
   "source": []
  }
 ],
 "metadata": {
  "kernelspec": {
   "display_name": "Python 3",
   "language": "python",
   "name": "python3"
  },
  "language_info": {
   "codemirror_mode": {
    "name": "ipython",
    "version": 3
   },
   "file_extension": ".py",
   "mimetype": "text/x-python",
   "name": "python",
   "nbconvert_exporter": "python",
   "pygments_lexer": "ipython3",
   "version": "3.5.3"
  }
 },
 "nbformat": 4,
 "nbformat_minor": 2
}
