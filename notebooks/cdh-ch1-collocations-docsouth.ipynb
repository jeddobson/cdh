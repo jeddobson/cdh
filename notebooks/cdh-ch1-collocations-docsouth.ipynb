{
 "cells": [
  {
   "cell_type": "markdown",
   "metadata": {},
   "source": [
    "# Text Mining DocSouth Slave Narrative Archive\n",
    "---\n",
    "\n",
    "*Note:* This is one in [a series of documents and notebooks](https://jeddobson.github.io/textmining-docsouth/) that will document and evaluate various machine learning and text mining tools for use in literary studies. These notebooks form the practical and critical archive of my book-in-progress, _Digital Humanities and the Search for a Method_. I have published a critique of some existing methods (Dobson 2016) that takes up some of these concerns and provides some theoretical background for my account of computational methods as used within the humanities.\n",
    "\n",
    "### Revision Date and Notes:\n",
    "\n",
    "09/13/2017: Initial version (james.e.dobson@dartmouth.edu)\n",
    "\n",
    "### Producing Collocation Lists of DocSouth Texts\n",
    "\n"
   ]
  },
  {
   "cell_type": "code",
   "execution_count": 1,
   "metadata": {
    "collapsed": false
   },
   "outputs": [
    {
     "name": "stdout",
     "output_type": "stream",
     "text": [
      "nltk version:  3.2.2\n"
     ]
    }
   ],
   "source": [
    "# local Natural Language Toolkit\n",
    "import nltk\n",
    "print(\"nltk version: \",nltk.__version__)\n",
    "\n",
    "# load all library and all the texts\n",
    "import sys\n",
    "\n",
    "sys.path.append(\"lib\")\n",
    "import docsouth_utils\n",
    "\n",
    "neh_slave_archive = docsouth_utils.load_narratives()"
   ]
  },
  {
   "cell_type": "code",
   "execution_count": 2,
   "metadata": {
    "collapsed": false
   },
   "outputs": [
    {
     "name": "stdout",
     "output_type": "stream",
     "text": [
      "Author: Amanda  Smith\n",
      "Title: An Autobiography: The Story of the Lord's Dealings with Mrs. Amanda Smith, the Colored Evangelist: Containing an Account of Her Life Work of Faith, and Her Travels in America, England, Ireland, Scotland, India, and Africa as an Independent Missionary\n",
      "Tokens: 242891\n",
      "Preprocessed Tokens: 87638 \n",
      "\n",
      "Collocated terms:\n",
      "n't know; New York; Cape Palmas; Methodist Church; shall forget;\n",
      "Amanda Smith; Bishop Taylor; Holy Ghost; never forget; Sierra Leone;\n",
      "camp meeting; Praise Lord; said “Lord; shall never; Mrs. Smith; God\n",
      "bless; Sister Smith; Sabbath School; could get; Lord helped\n",
      "\n",
      "Preprocessed collocated terms:\n",
      "cape palmas; amanda smith; new york; camp meeting; shall forget;\n",
      "praise lord; methodist church; sierra leone; bishop taylor; holy\n",
      "ghost; sister smith; never forget; god bless; shall never; mrs. smith;\n",
      "lord help; lord helped; two weeks; thank god; miss drake\n"
     ]
    }
   ],
   "source": [
    "print(\"Author:\",neh_slave_archive[25]['author'])\n",
    "print(\"Title:\",neh_slave_archive[25]['title'])\n",
    "print(\"Tokens:\",len(neh_slave_archive[25]['text']))\n",
    "\n",
    "preprocessed_text=nltk.Text(docsouth_utils.preprocess(neh_slave_archive[25]['text']))\n",
    "print(\"Preprocessed Tokens:\",len(preprocessed_text),\"\\n\")\n",
    "print(\"Collocated terms:\")\n",
    "neh_slave_archive[25]['text'].collocations(window_size=3)\n",
    "print()\n",
    "print(\"Preprocessed collocated terms:\")\n",
    "preprocessed_text.collocations(window_size=3)"
   ]
  },
  {
   "cell_type": "code",
   "execution_count": null,
   "metadata": {
    "collapsed": true
   },
   "outputs": [],
   "source": []
  }
 ],
 "metadata": {
  "kernelspec": {
   "display_name": "Python 3",
   "language": "python",
   "name": "python3"
  },
  "language_info": {
   "codemirror_mode": {
    "name": "ipython",
    "version": 3
   },
   "file_extension": ".py",
   "mimetype": "text/x-python",
   "name": "python",
   "nbconvert_exporter": "python",
   "pygments_lexer": "ipython3",
   "version": "3.5.3"
  }
 },
 "nbformat": 4,
 "nbformat_minor": 2
}
